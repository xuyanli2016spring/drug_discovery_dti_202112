{
 "cells": [
  {
   "cell_type": "code",
   "execution_count": 1,
   "metadata": {},
   "outputs": [],
   "source": [
    "import numpy as np\n",
    "import pandas as pd\n",
    "import matplotlib.pyplot as plt\n",
    "import torch\n",
    "import torch.nn as nn\n",
    "from sklearn.preprocessing import StandardScaler\n",
    "from sklearn.model_selection import train_test_split"
   ]
  },
  {
   "cell_type": "code",
   "execution_count": 2,
   "metadata": {},
   "outputs": [
    {
     "data": {
      "text/html": [
       "<div>\n",
       "<style scoped>\n",
       "    .dataframe tbody tr th:only-of-type {\n",
       "        vertical-align: middle;\n",
       "    }\n",
       "\n",
       "    .dataframe tbody tr th {\n",
       "        vertical-align: top;\n",
       "    }\n",
       "\n",
       "    .dataframe thead th {\n",
       "        text-align: right;\n",
       "    }\n",
       "</style>\n",
       "<table border=\"1\" class=\"dataframe\">\n",
       "  <thead>\n",
       "    <tr style=\"text-align: right;\">\n",
       "      <th></th>\n",
       "      <th>mol</th>\n",
       "      <th>CID</th>\n",
       "      <th>Class</th>\n",
       "      <th>Model</th>\n",
       "      <th>pIC50</th>\n",
       "      <th>MW</th>\n",
       "      <th>AlogP</th>\n",
       "      <th>HBA</th>\n",
       "      <th>HBD</th>\n",
       "      <th>RB</th>\n",
       "      <th>...</th>\n",
       "      <th>PEOE6 (PEOE6)</th>\n",
       "      <th>PEOE7 (PEOE7)</th>\n",
       "      <th>PEOE8 (PEOE8)</th>\n",
       "      <th>PEOE9 (PEOE9)</th>\n",
       "      <th>PEOE10 (PEOE10)</th>\n",
       "      <th>PEOE11 (PEOE11)</th>\n",
       "      <th>PEOE12 (PEOE12)</th>\n",
       "      <th>PEOE13 (PEOE13)</th>\n",
       "      <th>PEOE14 (PEOE14)</th>\n",
       "      <th>canvasUID</th>\n",
       "    </tr>\n",
       "  </thead>\n",
       "  <tbody>\n",
       "    <tr>\n",
       "      <th>0</th>\n",
       "      <td>O1CC[C@@H](NC(=O)[C@@H](Cc2cc3cc(ccc3nc2N)-c2c...</td>\n",
       "      <td>BACE_1</td>\n",
       "      <td>1</td>\n",
       "      <td>Train</td>\n",
       "      <td>9.154901</td>\n",
       "      <td>431.56979</td>\n",
       "      <td>4.4014</td>\n",
       "      <td>3</td>\n",
       "      <td>2</td>\n",
       "      <td>5</td>\n",
       "      <td>...</td>\n",
       "      <td>53.205711</td>\n",
       "      <td>78.640335</td>\n",
       "      <td>226.85541</td>\n",
       "      <td>107.43491</td>\n",
       "      <td>37.133846</td>\n",
       "      <td>0.000000</td>\n",
       "      <td>7.980170</td>\n",
       "      <td>0.0</td>\n",
       "      <td>0.000000</td>\n",
       "      <td>1</td>\n",
       "    </tr>\n",
       "    <tr>\n",
       "      <th>1</th>\n",
       "      <td>Fc1cc(cc(F)c1)C[C@H](NC(=O)[C@@H](N1CC[C@](NC(...</td>\n",
       "      <td>BACE_2</td>\n",
       "      <td>1</td>\n",
       "      <td>Train</td>\n",
       "      <td>8.853872</td>\n",
       "      <td>657.81073</td>\n",
       "      <td>2.6412</td>\n",
       "      <td>5</td>\n",
       "      <td>4</td>\n",
       "      <td>16</td>\n",
       "      <td>...</td>\n",
       "      <td>73.817162</td>\n",
       "      <td>47.171600</td>\n",
       "      <td>365.67694</td>\n",
       "      <td>174.07675</td>\n",
       "      <td>34.923889</td>\n",
       "      <td>7.980170</td>\n",
       "      <td>24.148668</td>\n",
       "      <td>0.0</td>\n",
       "      <td>24.663788</td>\n",
       "      <td>2</td>\n",
       "    </tr>\n",
       "    <tr>\n",
       "      <th>2</th>\n",
       "      <td>S1(=O)(=O)N(c2cc(cc3c2n(cc3CC)CC1)C(=O)N[C@H](...</td>\n",
       "      <td>BACE_3</td>\n",
       "      <td>1</td>\n",
       "      <td>Train</td>\n",
       "      <td>8.698970</td>\n",
       "      <td>591.74091</td>\n",
       "      <td>2.5499</td>\n",
       "      <td>4</td>\n",
       "      <td>3</td>\n",
       "      <td>11</td>\n",
       "      <td>...</td>\n",
       "      <td>70.365707</td>\n",
       "      <td>47.941147</td>\n",
       "      <td>192.40652</td>\n",
       "      <td>255.75255</td>\n",
       "      <td>23.654478</td>\n",
       "      <td>0.230159</td>\n",
       "      <td>15.879790</td>\n",
       "      <td>0.0</td>\n",
       "      <td>24.663788</td>\n",
       "      <td>3</td>\n",
       "    </tr>\n",
       "  </tbody>\n",
       "</table>\n",
       "<p>3 rows × 595 columns</p>\n",
       "</div>"
      ],
      "text/plain": [
       "                                                 mol     CID  Class  Model  \\\n",
       "0  O1CC[C@@H](NC(=O)[C@@H](Cc2cc3cc(ccc3nc2N)-c2c...  BACE_1      1  Train   \n",
       "1  Fc1cc(cc(F)c1)C[C@H](NC(=O)[C@@H](N1CC[C@](NC(...  BACE_2      1  Train   \n",
       "2  S1(=O)(=O)N(c2cc(cc3c2n(cc3CC)CC1)C(=O)N[C@H](...  BACE_3      1  Train   \n",
       "\n",
       "      pIC50         MW   AlogP  HBA  HBD  RB  ...  PEOE6 (PEOE6)  \\\n",
       "0  9.154901  431.56979  4.4014    3    2   5  ...      53.205711   \n",
       "1  8.853872  657.81073  2.6412    5    4  16  ...      73.817162   \n",
       "2  8.698970  591.74091  2.5499    4    3  11  ...      70.365707   \n",
       "\n",
       "   PEOE7 (PEOE7)  PEOE8 (PEOE8)  PEOE9 (PEOE9)  PEOE10 (PEOE10)  \\\n",
       "0      78.640335      226.85541      107.43491        37.133846   \n",
       "1      47.171600      365.67694      174.07675        34.923889   \n",
       "2      47.941147      192.40652      255.75255        23.654478   \n",
       "\n",
       "   PEOE11 (PEOE11)  PEOE12 (PEOE12)  PEOE13 (PEOE13)  PEOE14 (PEOE14)  \\\n",
       "0         0.000000         7.980170              0.0         0.000000   \n",
       "1         7.980170        24.148668              0.0        24.663788   \n",
       "2         0.230159        15.879790              0.0        24.663788   \n",
       "\n",
       "   canvasUID  \n",
       "0          1  \n",
       "1          2  \n",
       "2          3  \n",
       "\n",
       "[3 rows x 595 columns]"
      ]
     },
     "execution_count": 2,
     "metadata": {},
     "output_type": "execute_result"
    }
   ],
   "source": [
    "data = pd.read_csv(\"molnet_bace.csv\")\n",
    "data.head(3)"
   ]
  },
  {
   "cell_type": "code",
   "execution_count": 3,
   "metadata": {},
   "outputs": [
    {
     "data": {
      "text/html": [
       "<div>\n",
       "<style scoped>\n",
       "    .dataframe tbody tr th:only-of-type {\n",
       "        vertical-align: middle;\n",
       "    }\n",
       "\n",
       "    .dataframe tbody tr th {\n",
       "        vertical-align: top;\n",
       "    }\n",
       "\n",
       "    .dataframe thead th {\n",
       "        text-align: right;\n",
       "    }\n",
       "</style>\n",
       "<table border=\"1\" class=\"dataframe\">\n",
       "  <thead>\n",
       "    <tr style=\"text-align: right;\">\n",
       "      <th></th>\n",
       "      <th>mol</th>\n",
       "      <th>Molecule</th>\n",
       "    </tr>\n",
       "  </thead>\n",
       "  <tbody>\n",
       "    <tr>\n",
       "      <th>0</th>\n",
       "      <td>O1CC[C@@H](NC(=O)[C@@H](Cc2cc3cc(ccc3nc2N)-c2c...</td>\n",
       "      <td><img data-content=\"rdkit/molecule\" src=\"data:image/png;base64,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\" alt=\"Mol\"/></td>\n",
       "    </tr>\n",
       "  </tbody>\n",
       "</table>\n",
       "</div>"
      ],
      "text/plain": [
       "                                                 mol  \\\n",
       "0  O1CC[C@@H](NC(=O)[C@@H](Cc2cc3cc(ccc3nc2N)-c2c...   \n",
       "\n",
       "                                            Molecule  \n",
       "0  <img data-content=\"rdkit/molecule\" src=\"data:i...  "
      ]
     },
     "execution_count": 3,
     "metadata": {},
     "output_type": "execute_result"
    }
   ],
   "source": [
    "from rdkit import Chem, DataStructs\n",
    "from rdkit.Chem import PandasTools, AllChem\n",
    "PandasTools.AddMoleculeColumnToFrame(data,'mol','Molecule')\n",
    "data[[\"mol\",\"Molecule\"]].head(1)"
   ]
  },
  {
   "cell_type": "code",
   "execution_count": 4,
   "metadata": {},
   "outputs": [],
   "source": [
    "def mol2fp(mol):\n",
    "    fp = AllChem.GetHashedMorganFingerprint(mol, 2, nBits=4096)\n",
    "    ar = np.zeros((1,), dtype=np.int8)\n",
    "    DataStructs.ConvertToNumpyArray(fp, ar)\n",
    "    return ar"
   ]
  },
  {
   "cell_type": "code",
   "execution_count": 5,
   "metadata": {},
   "outputs": [],
   "source": [
    "data[\"FPs\"] = data.Molecule.apply(mol2fp)"
   ]
  },
  {
   "cell_type": "code",
   "execution_count": 6,
   "metadata": {},
   "outputs": [
    {
     "name": "stdout",
     "output_type": "stream",
     "text": [
      "(1513, 4096)\n"
     ]
    }
   ],
   "source": [
    "X = np.stack(data.FPs.values)\n",
    "print(X.shape)"
   ]
  },
  {
   "cell_type": "code",
   "execution_count": 13,
   "metadata": {},
   "outputs": [
    {
     "data": {
      "text/plain": [
       "array([[9.1549015],\n",
       "       [8.8538723],\n",
       "       [8.6989698],\n",
       "       ...,\n",
       "       [2.9531147],\n",
       "       [2.7332981],\n",
       "       [2.5445461]])"
      ]
     },
     "execution_count": 13,
     "metadata": {},
     "output_type": "execute_result"
    }
   ],
   "source": [
    "y = data.pIC50.values.reshape((-1,1))\n",
    "y"
   ]
  },
  {
   "cell_type": "code",
   "execution_count": 14,
   "metadata": {},
   "outputs": [],
   "source": [
    "X_train, X_test, y_train, y_test = train_test_split(X, y,  test_size=0.10, random_state=42)"
   ]
  },
  {
   "cell_type": "code",
   "execution_count": 20,
   "metadata": {},
   "outputs": [],
   "source": [
    "X_train, X_validation, y_train, y_validation = train_test_split(X_train, y_train,  test_size=0.05, random_state=42)"
   ]
  },
  {
   "cell_type": "code",
   "execution_count": 24,
   "metadata": {},
   "outputs": [
    {
     "data": {
      "text/plain": [
       "array([[8.2006598],\n",
       "       [7.6020598],\n",
       "       [7.25     ],\n",
       "       ...,\n",
       "       [7.9208188],\n",
       "       [8.       ],\n",
       "       [8.6989698]])"
      ]
     },
     "execution_count": 24,
     "metadata": {},
     "output_type": "execute_result"
    }
   ],
   "source": [
    "y_train"
   ]
  },
  {
   "cell_type": "code",
   "execution_count": 26,
   "metadata": {},
   "outputs": [
    {
     "data": {
      "text/plain": [
       "array([[7.8860564],\n",
       "       [7.4814858],\n",
       "       [7.3279023],\n",
       "       [3.6289322],\n",
       "       [7.4685211],\n",
       "       [7.3979402],\n",
       "       [7.1135092],\n",
       "       [4.4202166],\n",
       "       [8.6989698],\n",
       "       [6.821023 ],\n",
       "       [7.4685211],\n",
       "       [4.6458917],\n",
       "       [7.3899999],\n",
       "       [8.0969105],\n",
       "       [9.       ],\n",
       "       [4.5331326],\n",
       "       [7.0409584],\n",
       "       [6.5559554],\n",
       "       [4.9956784],\n",
       "       [8.       ],\n",
       "       [5.7495799],\n",
       "       [7.1191864],\n",
       "       [4.8860564],\n",
       "       [6.5376019],\n",
       "       [6.6382723],\n",
       "       [6.2146702],\n",
       "       [8.5086384],\n",
       "       [7.7447276],\n",
       "       [7.7695513],\n",
       "       [8.3979397],\n",
       "       [6.3872161],\n",
       "       [7.6020598],\n",
       "       [7.1307683],\n",
       "       [6.9065785],\n",
       "       [5.0506101],\n",
       "       [5.8153086],\n",
       "       [6.8860564],\n",
       "       [7.7212462],\n",
       "       [6.6497521],\n",
       "       [5.       ],\n",
       "       [8.1549015],\n",
       "       [7.09691  ],\n",
       "       [6.8239088],\n",
       "       [7.6989698],\n",
       "       [7.2291479],\n",
       "       [7.0604806],\n",
       "       [8.       ],\n",
       "       [4.067019 ],\n",
       "       [6.1739254],\n",
       "       [6.2596374],\n",
       "       [7.5228786],\n",
       "       [5.7328281],\n",
       "       [3.2083094],\n",
       "       [8.0969095],\n",
       "       [7.6989698],\n",
       "       [6.0655017],\n",
       "       [7.6575775],\n",
       "       [6.8996296],\n",
       "       [6.9546771],\n",
       "       [7.3979402],\n",
       "       [8.6989698],\n",
       "       [7.3665314],\n",
       "       [5.6575775],\n",
       "       [7.5086384],\n",
       "       [7.5228786],\n",
       "       [5.3767509],\n",
       "       [8.2676058],\n",
       "       [5.8860564],\n",
       "       [7.5850267]])"
      ]
     },
     "execution_count": 26,
     "metadata": {},
     "output_type": "execute_result"
    }
   ],
   "source": [
    "y_validation"
   ]
  },
  {
   "cell_type": "code",
   "execution_count": 27,
   "metadata": {},
   "outputs": [],
   "source": [
    "scaler = StandardScaler()\n",
    "y_train = scaler.fit_transform(y_train)"
   ]
  },
  {
   "cell_type": "code",
   "execution_count": 28,
   "metadata": {},
   "outputs": [
    {
     "data": {
      "text/plain": [
       "array([[1.26465542],\n",
       "       [0.81909921],\n",
       "       [0.55705037],\n",
       "       ...,\n",
       "       [1.05636124],\n",
       "       [1.11529822],\n",
       "       [1.63556274]])"
      ]
     },
     "execution_count": 28,
     "metadata": {},
     "output_type": "execute_result"
    }
   ],
   "source": [
    "y_train"
   ]
  },
  {
   "cell_type": "code",
   "execution_count": null,
   "metadata": {},
   "outputs": [],
   "source": [
    "from sklearn.preprocessing import StandardScaler\n",
    "from sklearn.model_selection import train_test_split\n",
    "\n",
    "y = data.pIC50.values.reshape((-1,1))\n",
    "X_train, X_test, y_train, y_test = train_test_split(X, y,  test_size=0.10, random_state=42)\n",
    "X_train, X_validation, y_train, y_validation = train_test_split(X_train, y_train,  test_size=0.05, random_state=42)\n",
    "#Normalizing output using standard scaling\n",
    "scaler = StandardScaler()\n",
    "y_train = scaler.fit_transform(y_train)\n",
    "y_test = scaler.transform(y_test)\n",
    "y_validation = scaler.transform(y_validation)"
   ]
  },
  {
   "cell_type": "code",
   "execution_count": 29,
   "metadata": {},
   "outputs": [],
   "source": [
    "from sklearn.feature_selection import VarianceThreshold\n",
    "feature_select = VarianceThreshold(threshold=0.05)"
   ]
  },
  {
   "cell_type": "code",
   "execution_count": 30,
   "metadata": {},
   "outputs": [
    {
     "data": {
      "text/plain": [
       "array([[0, 0, 0, ..., 0, 0, 0],\n",
       "       [0, 0, 0, ..., 0, 0, 0],\n",
       "       [0, 0, 0, ..., 0, 0, 0],\n",
       "       ...,\n",
       "       [0, 0, 0, ..., 0, 0, 0],\n",
       "       [0, 0, 0, ..., 0, 0, 0],\n",
       "       [0, 0, 0, ..., 0, 0, 0]], dtype=int8)"
      ]
     },
     "execution_count": 30,
     "metadata": {},
     "output_type": "execute_result"
    }
   ],
   "source": [
    "X_train = feature_select.fit_transform(X_train)"
   ]
  },
  {
   "cell_type": "code",
   "execution_count": 35,
   "metadata": {},
   "outputs": [
    {
     "data": {
      "text/plain": [
       "(152, 4096)"
      ]
     },
     "execution_count": 35,
     "metadata": {},
     "output_type": "execute_result"
    }
   ],
   "source": [
    "X_test.shape"
   ]
  },
  {
   "cell_type": "code",
   "execution_count": 36,
   "metadata": {},
   "outputs": [
    {
     "data": {
      "text/plain": [
       "(152, 275)"
      ]
     },
     "execution_count": 36,
     "metadata": {},
     "output_type": "execute_result"
    }
   ],
   "source": [
    "X_test = feature_select.transform(X_test)\n",
    "X_test.shape"
   ]
  },
  {
   "cell_type": "code",
   "execution_count": 37,
   "metadata": {},
   "outputs": [
    {
     "data": {
      "text/plain": [
       "(1292, 275)"
      ]
     },
     "execution_count": 37,
     "metadata": {},
     "output_type": "execute_result"
    }
   ],
   "source": [
    "from sklearn.feature_selection import VarianceThreshold\n",
    "feature_select = VarianceThreshold(threshold=0.05)\n",
    "X_train = feature_select.fit_transform(X_train)\n",
    "X_validation = feature_select.transform(X_validation)\n",
    "X_test = feature_select.transform(X_test)\n",
    "X_train.shape"
   ]
  },
  {
   "cell_type": "code",
   "execution_count": 38,
   "metadata": {},
   "outputs": [
    {
     "name": "stdout",
     "output_type": "stream",
     "text": [
      "cpu\n"
     ]
    }
   ],
   "source": [
    "device = torch.device(\"cuda:0\" if torch.cuda.is_available() else \"cpu\")\n",
    "print(device)"
   ]
  },
  {
   "cell_type": "code",
   "execution_count": 39,
   "metadata": {},
   "outputs": [],
   "source": [
    "X_train = torch.tensor(X_train, device=device).float()\n",
    "X_test = torch.tensor(X_test, device=device).float()\n",
    "X_validation = torch.tensor(X_validation, device=device).float()"
   ]
  },
  {
   "cell_type": "code",
   "execution_count": 42,
   "metadata": {},
   "outputs": [
    {
     "data": {
      "text/plain": [
       "tensor([[0., 0., 0.,  ..., 0., 0., 0.],\n",
       "        [0., 1., 0.,  ..., 0., 0., 0.],\n",
       "        [0., 1., 0.,  ..., 0., 0., 0.],\n",
       "        ...,\n",
       "        [0., 0., 0.,  ..., 0., 0., 0.],\n",
       "        [0., 0., 0.,  ..., 0., 0., 0.],\n",
       "        [0., 0., 0.,  ..., 0., 0., 1.]])"
      ]
     },
     "execution_count": 42,
     "metadata": {},
     "output_type": "execute_result"
    }
   ],
   "source": [
    "X_train"
   ]
  },
  {
   "cell_type": "code",
   "execution_count": 43,
   "metadata": {},
   "outputs": [],
   "source": [
    "y_train = torch.tensor(y_train, device=device).float()\n",
    "y_test = torch.tensor(y_test, device=device).float()\n",
    "y_validation = torch.tensor(y_validation, device=device).float()"
   ]
  },
  {
   "cell_type": "code",
   "execution_count": 44,
   "metadata": {},
   "outputs": [
    {
     "data": {
      "text/plain": [
       "tensor([[1.2647],\n",
       "        [0.8191],\n",
       "        [0.5571],\n",
       "        ...,\n",
       "        [1.0564],\n",
       "        [1.1153],\n",
       "        [1.6356]])"
      ]
     },
     "execution_count": 44,
     "metadata": {},
     "output_type": "execute_result"
    }
   ],
   "source": [
    "y_train"
   ]
  },
  {
   "cell_type": "code",
   "execution_count": 45,
   "metadata": {},
   "outputs": [],
   "source": [
    "from torch.utils.data import TensorDataset\n",
    "train_dataset = TensorDataset(X_train, y_train)"
   ]
  },
  {
   "cell_type": "code",
   "execution_count": 48,
   "metadata": {},
   "outputs": [],
   "source": [
    "from torch.utils.data import TensorDataset\n",
    "\n",
    "train_dataset = TensorDataset(X_train, y_train)\n",
    "validation_dataset = TensorDataset(X_validation, y_validation)\n",
    "\n",
    "train_loader = torch.utils.data.DataLoader(dataset=train_dataset,\n",
    "                                          batch_size=256,\n",
    "                                          shuffle=True)\n",
    "validation_loader = torch.utils.data.DataLoader(dataset=validation_dataset,\n",
    "                                          batch_size=256,\n",
    "                                          shuffle=False)"
   ]
  },
  {
   "cell_type": "code",
   "execution_count": 49,
   "metadata": {},
   "outputs": [],
   "source": [
    "class Net(nn.Module):\n",
    "    def __init__(self, input_size, hidden_size, dropout_rate, out_size):\n",
    "        super(Net, self).__init__()\n",
    "        # Three layers and a output layer\n",
    "        self.fc1 = nn.Linear(input_size, hidden_size)  # 1st Full-Connected Layer\n",
    "        self.fc2 = nn.Linear(hidden_size, hidden_size)\n",
    "        self.fc3 = nn.Linear(hidden_size, hidden_size)\n",
    "        self.fc_out = nn.Linear(hidden_size, out_size) # Output layer\n",
    "        #Layer normalization for faster training\n",
    "        self.ln1 = nn.LayerNorm(hidden_size)\n",
    "        self.ln2 = nn.LayerNorm(hidden_size)\n",
    "        self.ln3 = nn.LayerNorm(hidden_size)        \n",
    "        #LeakyReLU will be used as the activation function\n",
    "        self.activation = nn.LeakyReLU()\n",
    "        #Dropout for regularization\n",
    "        self.dropout = nn.Dropout(dropout_rate)\n",
    "     \n",
    "    def forward(self, x):# Forward pass: stacking each layer together\n",
    "        # Fully connected =&amp;gt; Layer Norm =&amp;gt; LeakyReLU =&amp;gt; Dropout times 3\n",
    "        out = self.fc1(x)\n",
    "        out = self.ln1(out)\n",
    "        out = self.activation(out)\n",
    "        out = self.dropout(out)\n",
    "        out = self.fc2(out)\n",
    "        out = self.ln2(out)\n",
    "        out = self.activation(out)\n",
    "        out = self.dropout(out)\n",
    "        out = self.fc3(out)\n",
    "        out = self.ln3(out)\n",
    "        out = self.activation(out)\n",
    "        out = self.dropout(out)\n",
    "        #Final output layer\n",
    "        out = self.fc_out(out)\n",
    "        return out"
   ]
  },
  {
   "cell_type": "code",
   "execution_count": 50,
   "metadata": {},
   "outputs": [],
   "source": [
    "#Defining the hyperparameters\n",
    "input_size = X_train.size()[-1]     # The input size should fit our fingerprint size\n",
    "hidden_size = 1024   # The size of the hidden layer\n",
    "dropout_rate = 0.80    # The dropout rate\n",
    "output_size = 1        # This is just a single task, so this will be one\n",
    "learning_rate = 0.001  # The learning rate for the optimizer\n",
    "model = Net(input_size, hidden_size, dropout_rate, output_size)"
   ]
  },
  {
   "cell_type": "code",
   "execution_count": null,
   "metadata": {},
   "outputs": [],
   "source": []
  }
 ],
 "metadata": {
  "kernelspec": {
   "display_name": "machineLearning",
   "language": "python",
   "name": "machinelearning"
  },
  "language_info": {
   "codemirror_mode": {
    "name": "ipython",
    "version": 3
   },
   "file_extension": ".py",
   "mimetype": "text/x-python",
   "name": "python",
   "nbconvert_exporter": "python",
   "pygments_lexer": "ipython3",
   "version": "3.9.7"
  }
 },
 "nbformat": 4,
 "nbformat_minor": 5
}
