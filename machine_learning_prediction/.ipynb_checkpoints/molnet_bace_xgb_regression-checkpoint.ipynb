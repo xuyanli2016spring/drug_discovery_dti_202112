{
 "cells": [
  {
   "cell_type": "code",
   "execution_count": 1,
   "metadata": {},
   "outputs": [],
   "source": [
    "import pandas as pd\n",
    "from rdkit import Chem\n",
    "from rdkit.Chem import AllChem\n",
    "import numpy as np\n",
    "import sklearn\n",
    "import xgboost as xgb\n",
    "from sklearn.model_selection import GridSearchCV\n",
    "from sklearn.model_selection import cross_validate\n",
    "from sklearn.model_selection import train_test_split\n",
    "from sklearn.metrics import make_scorer\n",
    "from sklearn.metrics import mean_absolute_error\n",
    "from sklearn.metrics import mean_squared_error\n",
    "from sklearn.metrics import mean_absolute_percentage_error\n",
    "from sklearn.metrics import r2_score\n",
    "import pickle"
   ]
  },
  {
   "cell_type": "markdown",
   "metadata": {},
   "source": [
    "# read data"
   ]
  },
  {
   "cell_type": "code",
   "execution_count": 3,
   "metadata": {},
   "outputs": [],
   "source": [
    "file = pd.read_csv('/Users/yanlixu/Desktop/git_code/machine_learning_prediction/molnet_bace.csv')\n",
    "dataset = file[['mol', 'pIC50']]\n",
    "train_data_x, test_data_x, train_y, test_y = train_test_split(dataset['mol'], dataset['pIC50'], test_size = 0.2, random_state = 1 )\n"
   ]
  },
  {
   "cell_type": "code",
   "execution_count": 14,
   "metadata": {},
   "outputs": [
    {
     "data": {
      "text/plain": [
       "(1210, 303)"
      ]
     },
     "execution_count": 14,
     "metadata": {},
     "output_type": "execute_result"
    }
   ],
   "source": [
    "len(train_data_x), len(test_data_x)"
   ]
  },
  {
   "cell_type": "markdown",
   "metadata": {},
   "source": [
    "# calculate fingerPrint"
   ]
  },
  {
   "cell_type": "code",
   "execution_count": 4,
   "metadata": {},
   "outputs": [],
   "source": [
    "train_mols = [Chem.MolFromSmiles(smi) for smi in train_data_x] # RDKit Mol object\n",
    "train_fps = [Chem.AllChem.GetMorganFingerprintAsBitVect(mol, 4, 2048) for mol in train_mols]\n",
    "train_x = np.asarray(train_fps, dtype = float)\n",
    "\n",
    "test_mols = [Chem.MolFromSmiles(smi) for smi in test_data_x] # RDKit Mol object\n",
    "test_fps = [Chem.AllChem.GetMorganFingerprintAsBitVect(mol, 4, 2048) for mol in test_mols]\n",
    "test_x = np.asarray(test_fps, dtype = float)"
   ]
  },
  {
   "cell_type": "markdown",
   "metadata": {},
   "source": [
    "# Grid search"
   ]
  },
  {
   "cell_type": "code",
   "execution_count": 6,
   "metadata": {},
   "outputs": [],
   "source": [
    "# 1.参数字典\n",
    "xgb_param_grid = {'n_estimators':[10, 50, 100, 150, 200],\n",
    "                  'max_depth':[3, 6, 8, 10]}\n",
    "\n",
    "# 2.性能指标字典\n",
    "score_dict = {'mse':make_scorer(mean_squared_error),\n",
    "              'mae':make_scorer(mean_absolute_error),\n",
    "              'mape':make_scorer(mean_absolute_percentage_error),\n",
    "              'r2':make_scorer(r2_score)}"
   ]
  },
  {
   "cell_type": "code",
   "execution_count": 7,
   "metadata": {},
   "outputs": [],
   "source": [
    "xgb_reg = xgb.XGBRegressor()\n",
    "xgb_gs = GridSearchCV(xgb_reg,\n",
    "                      xgb_param_grid,\n",
    "                      scoring = score_dict,\n",
    "                      cv = 5,\n",
    "                      refit = 'r2',\n",
    "                      return_train_score = True)"
   ]
  },
  {
   "cell_type": "code",
   "execution_count": 8,
   "metadata": {},
   "outputs": [],
   "source": [
    "xgb_gs_ecfp = xgb_gs.fit(train_x, train_y)\n",
    "xgb_model = xgb_gs_ecfp.best_estimator_"
   ]
  },
  {
   "cell_type": "code",
   "execution_count": 10,
   "metadata": {},
   "outputs": [
    {
     "data": {
      "text/plain": [
       "XGBRegressor(base_score=0.5, booster='gbtree', colsample_bylevel=1,\n",
       "             colsample_bynode=1, colsample_bytree=1, enable_categorical=False,\n",
       "             gamma=0, gpu_id=-1, importance_type=None,\n",
       "             interaction_constraints='', learning_rate=0.300000012,\n",
       "             max_delta_step=0, max_depth=6, min_child_weight=1, missing=nan,\n",
       "             monotone_constraints='()', n_estimators=50, n_jobs=12,\n",
       "             num_parallel_tree=1, predictor='auto', random_state=0, reg_alpha=0,\n",
       "             reg_lambda=1, scale_pos_weight=1, subsample=1, tree_method='exact',\n",
       "             validate_parameters=1, verbosity=None)"
      ]
     },
     "execution_count": 10,
     "metadata": {},
     "output_type": "execute_result"
    }
   ],
   "source": [
    "xgb_model"
   ]
  },
  {
   "cell_type": "markdown",
   "metadata": {},
   "source": [
    "# Cross Validation of XGBoost"
   ]
  },
  {
   "cell_type": "code",
   "execution_count": 9,
   "metadata": {},
   "outputs": [],
   "source": [
    "xgb_cv = cross_validate(xgb_model,\n",
    "                        train_x,\n",
    "                        train_y,\n",
    "                        cv = 5,\n",
    "                        n_jobs = 10,\n",
    "                        scoring = score_dict,\n",
    "                        return_train_score = True)"
   ]
  },
  {
   "cell_type": "code",
   "execution_count": 12,
   "metadata": {},
   "outputs": [
    {
     "data": {
      "text/html": [
       "<div>\n",
       "<style scoped>\n",
       "    .dataframe tbody tr th:only-of-type {\n",
       "        vertical-align: middle;\n",
       "    }\n",
       "\n",
       "    .dataframe tbody tr th {\n",
       "        vertical-align: top;\n",
       "    }\n",
       "\n",
       "    .dataframe thead th {\n",
       "        text-align: right;\n",
       "    }\n",
       "</style>\n",
       "<table border=\"1\" class=\"dataframe\">\n",
       "  <thead>\n",
       "    <tr style=\"text-align: right;\">\n",
       "      <th></th>\n",
       "      <th>mae</th>\n",
       "      <th>mse</th>\n",
       "      <th>mape</th>\n",
       "      <th>r2</th>\n",
       "    </tr>\n",
       "  </thead>\n",
       "  <tbody>\n",
       "    <tr>\n",
       "      <th>train</th>\n",
       "      <td>0.193142</td>\n",
       "      <td>0.067367</td>\n",
       "      <td>0.031856</td>\n",
       "      <td>0.963180</td>\n",
       "    </tr>\n",
       "    <tr>\n",
       "      <th>test</th>\n",
       "      <td>0.588257</td>\n",
       "      <td>0.620566</td>\n",
       "      <td>0.099331</td>\n",
       "      <td>0.660149</td>\n",
       "    </tr>\n",
       "  </tbody>\n",
       "</table>\n",
       "</div>"
      ],
      "text/plain": [
       "            mae       mse      mape        r2\n",
       "train  0.193142  0.067367  0.031856  0.963180\n",
       "test   0.588257  0.620566  0.099331  0.660149"
      ]
     },
     "execution_count": 12,
     "metadata": {},
     "output_type": "execute_result"
    }
   ],
   "source": [
    "xgb_cv_train_mae = np.mean(xgb_cv['train_mae'])\n",
    "xgb_cv_train_mse = np.mean(xgb_cv['train_mse'])\n",
    "xgb_cv_train_mape = np.mean(xgb_cv['train_mape'])\n",
    "xgb_cv_train_r2 = np.mean(xgb_cv['train_r2'])\n",
    "\n",
    "xgb_cv_test_mae = np.mean(xgb_cv['test_mae'])\n",
    "xgb_cv_test_mse = np.mean(xgb_cv['test_mse'])\n",
    "xgb_cv_test_mape = np.mean(xgb_cv['test_mape'])\n",
    "xgb_cv_test_r2 = np.mean(xgb_cv['test_r2'])\n",
    "\n",
    " nm"
   ]
  },
  {
   "cell_type": "markdown",
   "metadata": {},
   "source": [
    "# external test"
   ]
  },
  {
   "cell_type": "code",
   "execution_count": 13,
   "metadata": {},
   "outputs": [
    {
     "data": {
      "text/html": [
       "<div>\n",
       "<style scoped>\n",
       "    .dataframe tbody tr th:only-of-type {\n",
       "        vertical-align: middle;\n",
       "    }\n",
       "\n",
       "    .dataframe tbody tr th {\n",
       "        vertical-align: top;\n",
       "    }\n",
       "\n",
       "    .dataframe thead th {\n",
       "        text-align: right;\n",
       "    }\n",
       "</style>\n",
       "<table border=\"1\" class=\"dataframe\">\n",
       "  <thead>\n",
       "    <tr style=\"text-align: right;\">\n",
       "      <th></th>\n",
       "      <th>mol</th>\n",
       "      <th>true_pIC50</th>\n",
       "      <th>test_pIC50</th>\n",
       "    </tr>\n",
       "  </thead>\n",
       "  <tbody>\n",
       "    <tr>\n",
       "      <th>0</th>\n",
       "      <td>S1(=O)(=O)N(CCCC1)c1cc(cc(c1)/C(=N\\OCc1ccccc1)...</td>\n",
       "      <td>7.508638</td>\n",
       "      <td>7.363010</td>\n",
       "    </tr>\n",
       "    <tr>\n",
       "      <th>1</th>\n",
       "      <td>Clc1cc2CC(N=C(NC(Cc3cscc3-c3cn[nH]c3)C(=O)[O-]...</td>\n",
       "      <td>6.346787</td>\n",
       "      <td>6.471633</td>\n",
       "    </tr>\n",
       "    <tr>\n",
       "      <th>2</th>\n",
       "      <td>Clc1cc2CC(N=C(NC(Cc3cscc3CCC3CC3)C(=O)[O-])c2c...</td>\n",
       "      <td>6.244125</td>\n",
       "      <td>6.008316</td>\n",
       "    </tr>\n",
       "    <tr>\n",
       "      <th>3</th>\n",
       "      <td>FC(F)(F)c1cc(ccc1)C[NH2+]CC(O)C(NC(=O)c1cc(N2C...</td>\n",
       "      <td>7.552842</td>\n",
       "      <td>7.298934</td>\n",
       "    </tr>\n",
       "    <tr>\n",
       "      <th>4</th>\n",
       "      <td>Fc1cc(cc(F)c1)CC(NC(=O)C)C(O)C[NH2+]C1(CCCCC1)...</td>\n",
       "      <td>5.801343</td>\n",
       "      <td>4.711882</td>\n",
       "    </tr>\n",
       "    <tr>\n",
       "      <th>...</th>\n",
       "      <td>...</td>\n",
       "      <td>...</td>\n",
       "      <td>...</td>\n",
       "    </tr>\n",
       "    <tr>\n",
       "      <th>298</th>\n",
       "      <td>OC(C(NC(=O)c1cc(N(C(=O)C)c2ccccc2)ccc1)Cc1cccc...</td>\n",
       "      <td>5.886056</td>\n",
       "      <td>6.891860</td>\n",
       "    </tr>\n",
       "    <tr>\n",
       "      <th>299</th>\n",
       "      <td>S(=O)(=O)(N(Cc1ccccc1)c1cc(ccc1)C(=O)NC(Cc1ccc...</td>\n",
       "      <td>6.744728</td>\n",
       "      <td>7.374022</td>\n",
       "    </tr>\n",
       "    <tr>\n",
       "      <th>300</th>\n",
       "      <td>FCCCCC#Cc1cc(ccc1)[C@]1(N=C(N)N(C)C1=O)c1ccc(O...</td>\n",
       "      <td>7.397940</td>\n",
       "      <td>7.690667</td>\n",
       "    </tr>\n",
       "    <tr>\n",
       "      <th>301</th>\n",
       "      <td>Clc1cc2nc(n(c2cc1)C(CC(C)C)CC(=O)NC(C)C)N</td>\n",
       "      <td>3.609065</td>\n",
       "      <td>3.812004</td>\n",
       "    </tr>\n",
       "    <tr>\n",
       "      <th>302</th>\n",
       "      <td>Fc1cc(cc(F)c1)CC(NC(=O)C(N1CCC(CCCC)C1=O)C)C(O...</td>\n",
       "      <td>7.221849</td>\n",
       "      <td>6.664429</td>\n",
       "    </tr>\n",
       "  </tbody>\n",
       "</table>\n",
       "<p>303 rows × 3 columns</p>\n",
       "</div>"
      ],
      "text/plain": [
       "                                                   mol  true_pIC50  test_pIC50\n",
       "0    S1(=O)(=O)N(CCCC1)c1cc(cc(c1)/C(=N\\OCc1ccccc1)...    7.508638    7.363010\n",
       "1    Clc1cc2CC(N=C(NC(Cc3cscc3-c3cn[nH]c3)C(=O)[O-]...    6.346787    6.471633\n",
       "2    Clc1cc2CC(N=C(NC(Cc3cscc3CCC3CC3)C(=O)[O-])c2c...    6.244125    6.008316\n",
       "3    FC(F)(F)c1cc(ccc1)C[NH2+]CC(O)C(NC(=O)c1cc(N2C...    7.552842    7.298934\n",
       "4    Fc1cc(cc(F)c1)CC(NC(=O)C)C(O)C[NH2+]C1(CCCCC1)...    5.801343    4.711882\n",
       "..                                                 ...         ...         ...\n",
       "298  OC(C(NC(=O)c1cc(N(C(=O)C)c2ccccc2)ccc1)Cc1cccc...    5.886056    6.891860\n",
       "299  S(=O)(=O)(N(Cc1ccccc1)c1cc(ccc1)C(=O)NC(Cc1ccc...    6.744728    7.374022\n",
       "300  FCCCCC#Cc1cc(ccc1)[C@]1(N=C(N)N(C)C1=O)c1ccc(O...    7.397940    7.690667\n",
       "301          Clc1cc2nc(n(c2cc1)C(CC(C)C)CC(=O)NC(C)C)N    3.609065    3.812004\n",
       "302  Fc1cc(cc(F)c1)CC(NC(=O)C(N1CCC(CCCC)C1=O)C)C(O...    7.221849    6.664429\n",
       "\n",
       "[303 rows x 3 columns]"
      ]
     },
     "execution_count": 13,
     "metadata": {},
     "output_type": "execute_result"
    }
   ],
   "source": [
    "xgb_ext_pred = xgb_model.predict(test_x)\n",
    "\n",
    "xgb_ext_df =  pd.DataFrame({'mol':test_data_x.tolist(),\n",
    "                            'true_pIC50':test_y.tolist(),\n",
    "                            'test_pIC50':xgb_ext_pred})\n",
    "xgb_ext_df"
   ]
  },
  {
   "cell_type": "markdown",
   "metadata": {},
   "source": [
    "# final results summary"
   ]
  },
  {
   "cell_type": "code",
   "execution_count": 15,
   "metadata": {},
   "outputs": [],
   "source": [
    "xgb_ext_mae = mean_absolute_error(test_y, xgb_ext_pred)\n",
    "xgb_ext_mse = mean_squared_error(test_y, xgb_ext_pred)\n",
    "xgb_ext_mape = mean_absolute_percentage_error(test_y, xgb_ext_pred)\n",
    "xgb_ext_r2 = r2_score(test_y, xgb_ext_pred)\n",
    "\n",
    "xgb_perf = {'mae':[xgb_cv_test_mae, xgb_ext_mae],\n",
    "            'mse':[xgb_cv_test_mse, xgb_ext_mse],\n",
    "            'mape':[xgb_cv_test_mape, xgb_ext_mape],\n",
    "            'r2':[xgb_cv_test_r2, xgb_ext_r2]}"
   ]
  },
  {
   "cell_type": "code",
   "execution_count": 16,
   "metadata": {},
   "outputs": [
    {
     "data": {
      "text/html": [
       "<div>\n",
       "<style scoped>\n",
       "    .dataframe tbody tr th:only-of-type {\n",
       "        vertical-align: middle;\n",
       "    }\n",
       "\n",
       "    .dataframe tbody tr th {\n",
       "        vertical-align: top;\n",
       "    }\n",
       "\n",
       "    .dataframe thead th {\n",
       "        text-align: right;\n",
       "    }\n",
       "</style>\n",
       "<table border=\"1\" class=\"dataframe\">\n",
       "  <thead>\n",
       "    <tr style=\"text-align: right;\">\n",
       "      <th></th>\n",
       "      <th>mae</th>\n",
       "      <th>mse</th>\n",
       "      <th>mape</th>\n",
       "      <th>r2</th>\n",
       "    </tr>\n",
       "  </thead>\n",
       "  <tbody>\n",
       "    <tr>\n",
       "      <th>cv</th>\n",
       "      <td>0.588257</td>\n",
       "      <td>0.620566</td>\n",
       "      <td>0.099331</td>\n",
       "      <td>0.660149</td>\n",
       "    </tr>\n",
       "    <tr>\n",
       "      <th>ext</th>\n",
       "      <td>0.563956</td>\n",
       "      <td>0.590848</td>\n",
       "      <td>0.094089</td>\n",
       "      <td>0.648260</td>\n",
       "    </tr>\n",
       "  </tbody>\n",
       "</table>\n",
       "</div>"
      ],
      "text/plain": [
       "          mae       mse      mape        r2\n",
       "cv   0.588257  0.620566  0.099331  0.660149\n",
       "ext  0.563956  0.590848  0.094089  0.648260"
      ]
     },
     "execution_count": 16,
     "metadata": {},
     "output_type": "execute_result"
    }
   ],
   "source": [
    "xgb_perf_df = pd.DataFrame.from_dict(xgb_perf)\n",
    "xgb_perf_df.index = ['cv', 'ext']\n",
    "xgb_perf_df"
   ]
  },
  {
   "cell_type": "markdown",
   "metadata": {},
   "source": [
    "# save model"
   ]
  },
  {
   "cell_type": "code",
   "execution_count": 17,
   "metadata": {},
   "outputs": [],
   "source": [
    "with open('/Users/yanlixu/Desktop/git_code/machine_learning_prediction/xgb_reg_molnet_bace.pkl', 'wb') as file:\n",
    "    pickle.dump(xgb_model, file)"
   ]
  },
  {
   "cell_type": "code",
   "execution_count": null,
   "metadata": {},
   "outputs": [],
   "source": []
  }
 ],
 "metadata": {
  "kernelspec": {
   "display_name": "machineLearning",
   "language": "python",
   "name": "machinelearning"
  },
  "language_info": {
   "codemirror_mode": {
    "name": "ipython",
    "version": 3
   },
   "file_extension": ".py",
   "mimetype": "text/x-python",
   "name": "python",
   "nbconvert_exporter": "python",
   "pygments_lexer": "ipython3",
   "version": "3.9.7"
  }
 },
 "nbformat": 4,
 "nbformat_minor": 4
}
